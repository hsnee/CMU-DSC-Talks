{
 "cells": [
  {
   "cell_type": "code",
   "execution_count": 1,
   "metadata": {},
   "outputs": [
    {
     "name": "stdout",
     "output_type": "stream",
     "text": [
      "Populating the interactive namespace from numpy and matplotlib\n"
     ]
    }
   ],
   "source": [
    "%pylab inline\n",
    "import pandas_datareader.data as web\n",
    "import datetime\n",
    "import plotly\n",
    "import plotly.plotly as py\n",
    "import plotly.figure_factory as ff\n",
    "%config InlineBackend.figure_format = 'retina'\n",
    "matplotlib.rcParams['figure.figsize'] = 19,40\n",
    "import seaborn as sns\n",
    "sns.set_context('poster',font_scale=1.4)\n",
    "sns.set_palette('colorblind')\n",
    "sns.set_style('darkgrid')\n",
    "import plotly.graph_objs as go"
   ]
  },
  {
   "cell_type": "code",
   "execution_count": 3,
   "metadata": {},
   "outputs": [],
   "source": [
    "start = datetime.datetime(2008,1,1)\n",
    "end = datetime.datetime(2018,1,1)"
   ]
  },
  {
   "cell_type": "code",
   "execution_count": 4,
   "metadata": {},
   "outputs": [],
   "source": [
    "spy_df = web.DataReader('SPY', 'yahoo', start, end).reset_index()"
   ]
  },
  {
   "cell_type": "code",
   "execution_count": 5,
   "metadata": {},
   "outputs": [
    {
     "data": {
      "text/html": [
       "<div>\n",
       "<style scoped>\n",
       "    .dataframe tbody tr th:only-of-type {\n",
       "        vertical-align: middle;\n",
       "    }\n",
       "\n",
       "    .dataframe tbody tr th {\n",
       "        vertical-align: top;\n",
       "    }\n",
       "\n",
       "    .dataframe thead th {\n",
       "        text-align: right;\n",
       "    }\n",
       "</style>\n",
       "<table border=\"1\" class=\"dataframe\">\n",
       "  <thead>\n",
       "    <tr style=\"text-align: right;\">\n",
       "      <th></th>\n",
       "      <th>Date</th>\n",
       "      <th>High</th>\n",
       "      <th>Low</th>\n",
       "      <th>Open</th>\n",
       "      <th>Close</th>\n",
       "      <th>Volume</th>\n",
       "      <th>Adj Close</th>\n",
       "    </tr>\n",
       "  </thead>\n",
       "  <tbody>\n",
       "    <tr>\n",
       "      <th>0</th>\n",
       "      <td>2008-01-02</td>\n",
       "      <td>146.990005</td>\n",
       "      <td>143.880005</td>\n",
       "      <td>146.529999</td>\n",
       "      <td>144.929993</td>\n",
       "      <td>204935600.0</td>\n",
       "      <td>116.068459</td>\n",
       "    </tr>\n",
       "    <tr>\n",
       "      <th>1</th>\n",
       "      <td>2008-01-03</td>\n",
       "      <td>145.490005</td>\n",
       "      <td>144.070007</td>\n",
       "      <td>144.910004</td>\n",
       "      <td>144.860001</td>\n",
       "      <td>125133300.0</td>\n",
       "      <td>116.012428</td>\n",
       "    </tr>\n",
       "    <tr>\n",
       "      <th>2</th>\n",
       "      <td>2008-01-04</td>\n",
       "      <td>143.440002</td>\n",
       "      <td>140.910004</td>\n",
       "      <td>143.339996</td>\n",
       "      <td>141.309998</td>\n",
       "      <td>232330900.0</td>\n",
       "      <td>113.169357</td>\n",
       "    </tr>\n",
       "    <tr>\n",
       "      <th>3</th>\n",
       "      <td>2008-01-07</td>\n",
       "      <td>142.229996</td>\n",
       "      <td>140.100006</td>\n",
       "      <td>141.809998</td>\n",
       "      <td>141.190002</td>\n",
       "      <td>234991000.0</td>\n",
       "      <td>113.073250</td>\n",
       "    </tr>\n",
       "    <tr>\n",
       "      <th>4</th>\n",
       "      <td>2008-01-08</td>\n",
       "      <td>142.899994</td>\n",
       "      <td>138.440002</td>\n",
       "      <td>142.080002</td>\n",
       "      <td>138.910004</td>\n",
       "      <td>326365700.0</td>\n",
       "      <td>111.247330</td>\n",
       "    </tr>\n",
       "  </tbody>\n",
       "</table>\n",
       "</div>"
      ],
      "text/plain": [
       "        Date        High         Low        Open       Close       Volume  \\\n",
       "0 2008-01-02  146.990005  143.880005  146.529999  144.929993  204935600.0   \n",
       "1 2008-01-03  145.490005  144.070007  144.910004  144.860001  125133300.0   \n",
       "2 2008-01-04  143.440002  140.910004  143.339996  141.309998  232330900.0   \n",
       "3 2008-01-07  142.229996  140.100006  141.809998  141.190002  234991000.0   \n",
       "4 2008-01-08  142.899994  138.440002  142.080002  138.910004  326365700.0   \n",
       "\n",
       "    Adj Close  \n",
       "0  116.068459  \n",
       "1  116.012428  \n",
       "2  113.169357  \n",
       "3  113.073250  \n",
       "4  111.247330  "
      ]
     },
     "execution_count": 5,
     "metadata": {},
     "output_type": "execute_result"
    }
   ],
   "source": [
    "spy_df.head()"
   ]
  },
  {
   "cell_type": "code",
   "execution_count": 10,
   "metadata": {},
   "outputs": [
    {
     "name": "stdout",
     "output_type": "stream",
     "text": [
      "High five! You successfully sent some data to your account on plotly. View your plot in your browser at https://plot.ly/~hsnee/0 or inside your plot.ly account where it is named 'plot from API'\n"
     ]
    },
    {
     "data": {
      "text/html": [
       "<iframe id=\"igraph\" scrolling=\"no\" style=\"border:none;\" seamless=\"seamless\" src=\"https://plot.ly/~hsnee/0.embed\" height=\"230px\" width=\"100%\"></iframe>"
      ],
      "text/plain": [
       "<plotly.tools.PlotlyDisplay object>"
      ]
     },
     "execution_count": 10,
     "metadata": {},
     "output_type": "execute_result"
    }
   ],
   "source": [
    "py.iplot(ff.create_table(spy_df.head()))"
   ]
  },
  {
   "cell_type": "code",
   "execution_count": 19,
   "metadata": {},
   "outputs": [
    {
     "data": {
      "text/html": [
       "<iframe id=\"igraph\" scrolling=\"no\" style=\"border:none;\" seamless=\"seamless\" src=\"https://plot.ly/~hsnee/6.embed\" height=\"525px\" width=\"100%\"></iframe>"
      ],
      "text/plain": [
       "<plotly.tools.PlotlyDisplay object>"
      ]
     },
     "execution_count": 19,
     "metadata": {},
     "output_type": "execute_result"
    }
   ],
   "source": [
    "data = [go.Scatter(x=spy_df.Date, y=spy_df.Close)]\n",
    "\n",
    "py.iplot(data)"
   ]
  },
  {
   "cell_type": "code",
   "execution_count": 57,
   "metadata": {},
   "outputs": [
    {
     "data": {
      "text/html": [
       "<iframe id=\"igraph\" scrolling=\"no\" style=\"border:none;\" seamless=\"seamless\" src=\"https://plot.ly/~hsnee/20.embed\" height=\"525px\" width=\"100%\"></iframe>"
      ],
      "text/plain": [
       "<plotly.tools.PlotlyDisplay object>"
      ]
     },
     "execution_count": 57,
     "metadata": {},
     "output_type": "execute_result"
    }
   ],
   "source": [
    "data = [go.Candlestick(x=spy_df.Date[0:90],\n",
    "                       open=spy_df.Open[0:90],\n",
    "                       high=spy_df.High[0:90],\n",
    "                       low=spy_df.Low[0:90],\n",
    "                       close=spy_df.Close[0:90])]\n",
    "py.iplot(data)"
   ]
  },
  {
   "cell_type": "code",
   "execution_count": 22,
   "metadata": {},
   "outputs": [
    {
     "data": {
      "text/html": [
       "<iframe id=\"igraph\" scrolling=\"no\" style=\"border:none;\" seamless=\"seamless\" src=\"https://plot.ly/~hsnee/8.embed\" height=\"525px\" width=\"100%\"></iframe>"
      ],
      "text/plain": [
       "<plotly.tools.PlotlyDisplay object>"
      ]
     },
     "execution_count": 22,
     "metadata": {},
     "output_type": "execute_result"
    }
   ],
   "source": [
    "data = [go.Scatter(x=spy_df.Date, y=rollingReturns(spy_df))]\n",
    "\n",
    "py.iplot(data)"
   ]
  },
  {
   "cell_type": "code",
   "execution_count": 7,
   "metadata": {},
   "outputs": [],
   "source": [
    "def rollingReturns(df, lookback=360):\n",
    "    x = df.Date\n",
    "    y = df.Close\n",
    "    return [y[i]/y[i-lookback] for i in range(lookback,len(list(y)))]"
   ]
  },
  {
   "cell_type": "code",
   "execution_count": 28,
   "metadata": {},
   "outputs": [
    {
     "data": {
      "text/html": [
       "<iframe id=\"igraph\" scrolling=\"no\" style=\"border:none;\" seamless=\"seamless\" src=\"https://plot.ly/~hsnee/10.embed\" height=\"525px\" width=\"100%\"></iframe>"
      ],
      "text/plain": [
       "<plotly.tools.PlotlyDisplay object>"
      ]
     },
     "execution_count": 28,
     "metadata": {},
     "output_type": "execute_result"
    }
   ],
   "source": [
    "aapl_df = web.DataReader('AAPL', 'yahoo', start, end).reset_index()\n",
    "data = [go.Scatter(x=spy_df.Date, y=spy_df.Close),go.Scatter(x=aapl_df.Date, y=aapl_df.Close) ]\n",
    "\n",
    "updatemenus = list([\n",
    "    dict(active=-1,\n",
    "         buttons=list([   \n",
    "            dict(label = 'SPY',\n",
    "                 method = 'update',\n",
    "                 args = [{'visible': [True, False]},\n",
    "                         {'title': 'S&P 500'}]),\n",
    "            dict(label = 'AAPL',\n",
    "                 method = 'update',\n",
    "                 args = [{'visible': [False, True]},\n",
    "                         {'title': 'Apple'}]),\n",
    "            dict(label = 'Both',\n",
    "                 method = 'update',\n",
    "                 args = [{'visible': [True, True]},\n",
    "                         {'title': 'Apple vs S&P 500'}])\n",
    "        ]),\n",
    "    )\n",
    "])\n",
    "\n",
    "layout = dict(title='Yahoo Finance', showlegend=False,\n",
    "              updatemenus=updatemenus)\n",
    "\n",
    "fig = dict(data=data, layout=layout)\n",
    "py.iplot(fig, filename='update_dropdown')\n"
   ]
  },
  {
   "cell_type": "code",
   "execution_count": 33,
   "metadata": {},
   "outputs": [
    {
     "data": {
      "text/html": [
       "<iframe id=\"igraph\" scrolling=\"no\" style=\"border:none;\" seamless=\"seamless\" src=\"https://plot.ly/~hsnee/10.embed\" height=\"525px\" width=\"100%\"></iframe>"
      ],
      "text/plain": [
       "<plotly.tools.PlotlyDisplay object>"
      ]
     },
     "execution_count": 33,
     "metadata": {},
     "output_type": "execute_result"
    }
   ],
   "source": [
    "aapl_df = web.DataReader('AAPL', 'yahoo', start, end).reset_index()\n",
    "data = [go.Scatter(x=spy_df.Date, y=rollingReturns(spy_df), name='SPY'),go.Scatter(x=aapl_df.Date, y=rollingReturns(aapl_df), name='AAPL') ]\n",
    "\n",
    "updatemenus = list([\n",
    "    dict(active=-1,\n",
    "         buttons=list([   \n",
    "            dict(label = 'SPY',\n",
    "                 method = 'update',\n",
    "                 args = [{'visible': [True, False]},\n",
    "                         {'title': 'S&P 500'}]),\n",
    "            dict(label = 'AAPL',\n",
    "                 method = 'update',\n",
    "                 args = [{'visible': [False, True]},\n",
    "                         {'title': 'Apple'}]),\n",
    "            dict(label = 'Both',\n",
    "                 method = 'update',\n",
    "                 args = [{'visible': [True, True]},\n",
    "                         {'title': 'Apple vs S&P 500'}])\n",
    "        ]),\n",
    "    )\n",
    "])\n",
    "\n",
    "layout = dict(title='Apple vs S&P 500 1-year returns',\n",
    "              updatemenus=updatemenus)\n",
    "\n",
    "fig = dict(data=data, layout=layout)\n",
    "py.iplot(fig, filename='update_dropdown')\n",
    "\n"
   ]
  }
 ],
 "metadata": {
  "kernelspec": {
   "display_name": "Python 3",
   "language": "python",
   "name": "python3"
  },
  "language_info": {
   "codemirror_mode": {
    "name": "ipython",
    "version": 3
   },
   "file_extension": ".py",
   "mimetype": "text/x-python",
   "name": "python",
   "nbconvert_exporter": "python",
   "pygments_lexer": "ipython3",
   "version": "3.7.0"
  }
 },
 "nbformat": 4,
 "nbformat_minor": 2
}
